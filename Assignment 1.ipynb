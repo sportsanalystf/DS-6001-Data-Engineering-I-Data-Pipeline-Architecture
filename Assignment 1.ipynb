{
 "cells": [
  {
   "cell_type": "markdown",
   "id": "38680441-dafb-4612-aeb8-04f545b16211",
   "metadata": {},
   "source": [
    "# Lab Assignment 1: How to Get Yourself Unstuck"
   ]
  },
  {
   "cell_type": "markdown",
   "id": "129d82a6-049a-438e-a302-e89de33813e8",
   "metadata": {},
   "source": [
    "# DS 6001"
   ]
  },
  {
   "cell_type": "markdown",
   "id": "3395d45b-02f0-4efe-9f93-004f4c004747",
   "metadata": {},
   "source": [
    "100 points"
   ]
  },
  {
   "cell_type": "markdown",
   "id": "2b483d07-a55f-43d6-9ca6-48a8d3af50f7",
   "metadata": {},
   "source": [
    "## Answer Key"
   ]
  },
  {
   "cell_type": "markdown",
   "id": "e924162a-5c6b-4982-8430-361af7fa25c3",
   "metadata": {},
   "source": [
    "# Problem 0"
   ]
  },
  {
   "cell_type": "markdown",
   "id": "85a78ba3-2900-4583-a6b4-d314252a8fac",
   "metadata": {},
   "source": [
    "On Canvas, under Modules, there is a section called Getting Started with the Tools We'll Be Using. Read the chapter posted under Background Reading, up through but not including the requirements.txt files section. \n",
    "\n",
    "Here is a direct link to the book: \n",
    "https://jkropko.github.io/surfing-the-data-pipeline/docker.html\n",
    "\n",
    "In addition, follow the written steps or the video for getting a Conda environment set up for this class under the Video and Written Guide section. \n",
    "\n",
    "Then answer the following questions."
   ]
  },
  {
   "cell_type": "markdown",
   "id": "2bb92478-d09c-4ea6-9c0c-ca202fac03c7",
   "metadata": {},
   "source": [
    "### Part a"
   ]
  },
  {
   "cell_type": "markdown",
   "id": "893846c9-2630-4b09-b97c-7efc9e4aea7b",
   "metadata": {},
   "source": [
    "What are the primary uses of a virtual environment, such as the Conda environment we are using in class? [5 points]"
   ]
  },
  {
   "cell_type": "markdown",
   "id": "2f0a600e-d11c-4735-abf2-65d04ac7e62f",
   "metadata": {},
   "source": [
    "Answer:\n",
    "\n",
    "- They let you separate projects, so each one can have its own setup without interfering with the others.\n",
    "\n",
    "- You can lock in specific versions of Python and libraries, which makes your work more reliable and consistent.\n",
    "\n",
    "- They make it easier to share and reproduce results, since you can export the environment and someone else can recreate it exactly.\n",
    "\n",
    "- They help you keep things organized and clean, instead of cluttering up your computer with random packages.\n",
    "\n",
    "- They give you a safe space to experiment with new tools or updates without risking your main system."
   ]
  },
  {
   "cell_type": "markdown",
   "id": "06711fff-9cf3-4be8-b9c2-f8afbd6e30bc",
   "metadata": {},
   "source": [
    "### Part b"
   ]
  },
  {
   "cell_type": "markdown",
   "id": "2443b669-4393-415a-b414-820a84191e7f",
   "metadata": {},
   "source": [
    "What are the main differences between the global environment, a virtual environment, a container, and a virtual machine? [5 points]"
   ]
  },
  {
   "cell_type": "markdown",
   "id": "b7f5768f-fef3-4707-b4c1-a8b89cfb9913",
   "metadata": {},
   "source": [
    "Answer:\n",
    "\n",
    "- Global environment – This is computer’s default setup. Everything including browser, games, Python, and its packages—lives together here. It’s simple, but risky, because changing something for one project might break something else.\n",
    "\n",
    "- Virtual environment – This as a clean folder just for one project. We can pick which Python version to use and packages to install, without affecting anything else on your computer. It keeps things tidy, but it still relies on your computer’s operating system.\n",
    "\n",
    "- Container (Docker) – A container takes it a step further. It not only bundles Python and its packages, but also includes its own operating system and extra software if needed. That way, the project runs the same everywhere—whether you’re on Windows, Mac, or Linux.\n",
    "\n",
    "- Virtual machine – A VM is like renting an entire computer in the cloud. It’s fully separate from your own machine, and you can even request special hardware like GPUs. That makes it great for big projects that need more power, but it’s more expensive and complex.\n",
    "\n",
    "Each step (global → virtual env → container → VM) adds more isolation and control."
   ]
  },
  {
   "cell_type": "markdown",
   "id": "e597d8c9-fb9b-498a-857c-8372acd32b68",
   "metadata": {},
   "source": [
    "### Part c"
   ]
  },
  {
   "cell_type": "markdown",
   "id": "52d2b12f-6848-4daf-85da-2c2ea4faf6af",
   "metadata": {},
   "source": [
    "After following the instructions on Canvas for creating a conda virtual environment for this class, select it as the kernel for this notebook. Then import all of the following packages. It should run without error. [5 points]"
   ]
  },
  {
   "cell_type": "code",
   "execution_count": 8,
   "id": "9d1df72a-548c-4e5f-9619-50824e57f588",
   "metadata": {},
   "outputs": [],
   "source": [
    "import numpy as np\n",
    "import pandas as pd\n",
    "import plotly.express as px\n",
    "import prince\n",
    "import requests\n",
    "import prince\n",
    "import wquantiles\n",
    "import matplotlib.pyplot as plt\n",
    "import seaborn as sns\n",
    "import sidetable\n",
    "import sqlalchemy\n",
    "import psycopg\n",
    "import mysql.connector\n",
    "import pymongo\n",
    "from scipy import stats\n",
    "from sklearn import manifold"
   ]
  },
  {
   "cell_type": "markdown",
   "id": "0c3cf8c3-ad68-4eb0-8eb0-b7b40fdb55c4",
   "metadata": {},
   "source": [
    "# Problem 1"
   ]
  },
  {
   "cell_type": "markdown",
   "id": "8a16e8c1-7096-4af5-a019-e48f7260110a",
   "metadata": {},
   "source": [
    "Please read the following blog post describing some common Python errors: https://www.tutorialsteacher.com/python/error-types-in-python. \n",
    "Then for each of the following situations, state the what type of exception is Python likely to produce. (I'm looking for specific Exceptions that appear in the table on this website.) [2 points each]"
   ]
  },
  {
   "cell_type": "markdown",
   "id": "b58880c8-c338-44ee-a5ee-0fcdc77444ea",
   "metadata": {},
   "source": [
    "### Part a"
   ]
  },
  {
   "cell_type": "markdown",
   "id": "be355522-3292-4ba0-acf2-d1c6ecb97dec",
   "metadata": {},
   "source": [
    "I accidentally type two closing parentheses )) instead of one at the end of a line of code."
   ]
  },
  {
   "cell_type": "markdown",
   "id": "acc20c77-300a-4663-a71d-7b34a105bd78",
   "metadata": {},
   "source": [
    "> \"SyntaxError\" (Python can’t parse the code correctly)"
   ]
  },
  {
   "cell_type": "markdown",
   "id": "349e1a40-11a5-4715-a3da-512557bd3856",
   "metadata": {},
   "source": [
    "### Part b"
   ]
  },
  {
   "cell_type": "markdown",
   "id": "7f07cab2-7d07-452f-91ad-6c5e60a2aba0",
   "metadata": {},
   "source": [
    "I found some code where someone created a useful function using the def statement. I copy that code and paste it into my own script. However, the copy-and-pasting somehow got rid of all my tabs so that every line is aligned on the left."
   ]
  },
  {
   "cell_type": "markdown",
   "id": "3a27054f-903d-4fa9-b2f8-caca3580a1d2",
   "metadata": {},
   "source": [
    "> \"IndentationError\" (special type of syntax error for bad indentation)"
   ]
  },
  {
   "cell_type": "markdown",
   "id": "56adc616-02ae-44b9-8b31-4f4f8c7fcd44",
   "metadata": {},
   "source": [
    "### Part c"
   ]
  },
  {
   "cell_type": "markdown",
   "id": "5a20dced-b3c8-4898-8a9f-672454da2920",
   "metadata": {},
   "source": [
    "I use Python to calculate the number of atoms within every star in every galaxy in the universe."
   ]
  },
  {
   "cell_type": "markdown",
   "id": "7155d50b-43ef-4b4d-aad0-d5d57763322c",
   "metadata": {},
   "source": [
    "> \"OverflowError\" (numbers get too large for Python to handle)"
   ]
  },
  {
   "cell_type": "markdown",
   "id": "2456b63d-eae1-4deb-8d77-425a8862ba55",
   "metadata": {},
   "source": [
    "### Part d"
   ]
  },
  {
   "cell_type": "markdown",
   "id": "ae33b21b-85be-4b58-9f43-4cc2b7814a15",
   "metadata": {},
   "source": [
    "I divide by the number of Super Bowls won by the Cleveland Browns."
   ]
  },
  {
   "cell_type": "markdown",
   "id": "b0e9c0be-ea1c-4003-9fc6-72aad9e74e5e",
   "metadata": {},
   "source": [
    "> \"ZeroDivisionError\" (division by zero)"
   ]
  },
  {
   "cell_type": "markdown",
   "id": "3ed1467c-0ca9-42dd-b7bf-5ad786a1884e",
   "metadata": {},
   "source": [
    "### Part e"
   ]
  },
  {
   "cell_type": "markdown",
   "id": "9da1343a-6bcb-4ee2-a33b-ce29d66cecb0",
   "metadata": {},
   "source": [
    "I am hungry, so I reset my Python kernel and start a new script. I write one line of code: print(tacos)"
   ]
  },
  {
   "cell_type": "markdown",
   "id": "c1c67a96-acf7-45d6-9a3f-d11ae99c4da1",
   "metadata": {},
   "source": [
    "> \"NameError\" (variable tacos not defined)"
   ]
  },
  {
   "cell_type": "markdown",
   "id": "12b299e1-6875-420f-a71b-090ceb65c8ec",
   "metadata": {},
   "source": [
    "### Part f"
   ]
  },
  {
   "cell_type": "markdown",
   "id": "c2be20a1-2a32-4980-a355-a9d9bec9ae0c",
   "metadata": {},
   "source": [
    "I download the entire internet so I can run a regression on it."
   ]
  },
  {
   "cell_type": "markdown",
   "id": "17b159ad-fa72-48fb-bfff-ba888e6efeb7",
   "metadata": {},
   "source": [
    "> \"MemoryError\" (Python runs out of memory)"
   ]
  },
  {
   "cell_type": "markdown",
   "id": "f15b7fb7-0e6b-476c-9dc8-961420d7438a",
   "metadata": {},
   "source": [
    "### Part g"
   ]
  },
  {
   "cell_type": "markdown",
   "id": "a7727684-35ef-4897-a79b-35132e695b0c",
   "metadata": {},
   "source": [
    "I take the square root of the words \"twenty five\"."
   ]
  },
  {
   "cell_type": "markdown",
   "id": "8431c362-22f4-4840-8bd4-dbd0d0b2bfad",
   "metadata": {},
   "source": [
    "> \"TypeError\" (wrong data type for the operation)"
   ]
  },
  {
   "cell_type": "markdown",
   "id": "0000f501-e6bb-4fe5-bbdc-50e3dd475fd7",
   "metadata": {},
   "source": [
    "### Part h"
   ]
  },
  {
   "cell_type": "markdown",
   "id": "c64a8715-d331-462d-a888-c41de265b106",
   "metadata": {},
   "source": [
    "Something entirely different and unexpected happens, causing Python to stop short, its words caught in its mouth, as if reason itself boarded the last train to Seattle in the chill of an unforgiving winter's night. There is no explanation, nor can there ever be. Only one thing is certain: something went wrong."
   ]
  },
  {
   "cell_type": "markdown",
   "id": "1bf5cbad-93ee-4476-b7c5-d2951db0e7d9",
   "metadata": {},
   "source": [
    "> \"RuntimeError\" (generic catch-all when “something went wrong”)"
   ]
  },
  {
   "cell_type": "markdown",
   "id": "9c4d5dd9-2ebf-4153-b4fb-c0ece2d1cacf",
   "metadata": {},
   "source": [
    "# Problem 2"
   ]
  },
  {
   "cell_type": "markdown",
   "id": "66d2aac6-552f-4a0b-9753-2778e255cdf6",
   "metadata": {},
   "source": [
    "Use the built-in docstrings or help() text for each method to answer the following questions:"
   ]
  },
  {
   "cell_type": "markdown",
   "id": "da53daa6-ba04-4420-bb75-4cc46f82a609",
   "metadata": {},
   "source": [
    "### Part a"
   ]
  },
  {
   "cell_type": "markdown",
   "id": "0ef00cf9-814f-4a7a-bc1b-b12fe1e30602",
   "metadata": {},
   "source": [
    "I am loading data from a CSV file using pd.read_csv() . But it is taking a long time. Find a parameter that can speed up this method by using the C engine instead of the Python one. [5 points]"
   ]
  },
  {
   "cell_type": "markdown",
   "id": "f1683c3e-3247-45d4-b4ee-66a60cab0d93",
   "metadata": {},
   "source": [
    "Answer :\n",
    "\n",
    "> pd.read_csv(\"file.csv\", engine=\"c\")\n",
    "\n",
    "The engine=\"c\" option tells pandas to use the faster C parser instead of the Python one."
   ]
  },
  {
   "cell_type": "markdown",
   "id": "15310b83-8aa0-4649-a518-bf094e8a148b",
   "metadata": {},
   "source": [
    "### Part b"
   ]
  },
  {
   "cell_type": "markdown",
   "id": "cba1090a-ca68-4f87-a992-88415b3bdf9a",
   "metadata": {},
   "source": [
    "I create the following dictionary:\n",
    "\n",
    "> mytrips = {'Portland': 'So many bicycles',\n",
    "  'Nashville': 'Lost in Opryland Mall again',\n",
    "  'Richmond': 'Got tattoo and became a hipster',\n",
    "  'San Diego': 'Chased off beach by sea lion'}\n",
    "\n",
    "How can I see only the cities I've visited (the keys) but not the travel notes (the values)?\n",
    "[5 points]"
   ]
  },
  {
   "cell_type": "code",
   "execution_count": 9,
   "id": "c2551207-86bc-4ffa-93b3-c6b4791cdf9e",
   "metadata": {},
   "outputs": [],
   "source": [
    "mytrips = {'Portland': 'So many bicycles',\n",
    " 'Nashville': 'Lost in Opryland Mall again',\n",
    " 'Richmond': 'Got tattoo and became a hipster',\n",
    " 'San Diego': 'Chased off beach by sea lion'}"
   ]
  },
  {
   "cell_type": "code",
   "execution_count": 10,
   "id": "3d912cf4-40ea-406e-9520-a2b5269ccc1e",
   "metadata": {},
   "outputs": [
    {
     "data": {
      "text/plain": [
       "dict_keys(['Portland', 'Nashville', 'Richmond', 'San Diego'])"
      ]
     },
     "execution_count": 10,
     "metadata": {},
     "output_type": "execute_result"
    }
   ],
   "source": [
    "mytrips.keys()"
   ]
  },
  {
   "cell_type": "markdown",
   "id": "f61b35b8-29ab-47a6-8855-3a527746b80b",
   "metadata": {},
   "source": [
    "> This returns just the keys ('Portland', 'Nashville', 'Richmond', 'San Diego')"
   ]
  },
  {
   "cell_type": "markdown",
   "id": "1f15f6cc-d214-46cf-aa0f-4fab1e26e2ca",
   "metadata": {},
   "source": [
    "### Part c"
   ]
  },
  {
   "cell_type": "markdown",
   "id": "0cb277b9-b43b-4269-a999-b0db57047f23",
   "metadata": {},
   "source": [
    "I am using px.scatter() from plotly express to create an HTML enabled scatterplot. How would I add a box plot to the x-axis to visualize the distribution of the x variable? [5 points]"
   ]
  },
  {
   "cell_type": "markdown",
   "id": "9c997b59-8cc4-443a-b6a7-80497e236448",
   "metadata": {},
   "source": [
    "> px.scatter(df, x=\"column1\", y=\"column2\", marginal_x=\"box\")\n",
    "\n",
    "Setting marginal_x=\"box\" adds a box plot along the x-axis to show the distribution."
   ]
  },
  {
   "cell_type": "markdown",
   "id": "88577bde-6f40-4c81-961a-8585eae6d126",
   "metadata": {},
   "source": [
    "# Problem 3"
   ]
  },
  {
   "cell_type": "markdown",
   "id": "7375a6f1-fd93-429d-bd6a-cfd67b14f891",
   "metadata": {},
   "source": [
    "For the following questions, find some examples of people using Stack Overflow badly, either by being toxic while answering a question, or by asking a poorly worded or researched question. You will have to do some digging as these sorts of behaviors aren't the first ones that pop up in a normal search. For toxic answers, look down the page for responses that are NOT the ones accepted by the question-asker. (Remember, these responses are pretty well hidden to us, but they came through loud and clear for the original asker.) For poor questions, look for posts with few responses or maybe some downvotes."
   ]
  },
  {
   "cell_type": "markdown",
   "id": "4839f0de-ac4d-4b25-a5c3-38883fcaf33f",
   "metadata": {},
   "source": [
    "### Part a"
   ]
  },
  {
   "cell_type": "markdown",
   "id": "f68e6f51-0470-4db1-bc13-95bc5eedc9a9",
   "metadata": {},
   "source": [
    "Search through the questions on Stack Overflow tagged as Python questions: https://stackoverflow.com/questions/tagged/python. Find a question in which an answerer exhibits passive toxic behavior as defined in this module's notebook. Provide a link, and describe what specific behavior leads you to identify this answer as toxic. [6 points]"
   ]
  },
  {
   "cell_type": "markdown",
   "id": "e68eaf41-ca97-421f-a0eb-438ac2fea9ad",
   "metadata": {},
   "source": [
    "Link : https://stackoverflow.com/questions/3331591/python-for-loop-counter-error\n",
    "\n",
    "This tone is passive-toxic: instead of patiently explaining, the answerer demands the asker justify themselves (“explain what you think”), then bluntly states the trivial result. \n",
    "\n",
    "Phrases like “the answer is zero” and framing the question as a hint mock the asker’s understanding. \n",
    "\n",
    "Such condescending language (implying “you should have known this”) qualifies as passive-aggressive toxicity\n",
    "\n",
    "> Used deep research to find the relevant question link\n"
   ]
  },
  {
   "cell_type": "markdown",
   "id": "3c433dcb-67e8-4582-836a-75e8d03a938d",
   "metadata": {},
   "source": [
    "### Part b"
   ]
  },
  {
   "cell_type": "markdown",
   "id": "f147b9a6-d1f7-4e3d-a4b3-226d5f61b60e",
   "metadata": {},
   "source": [
    "Search through the questions on Stack Overflow tagged as Python questions: https://stackoverflow.com/questions/tagged/python. Find a question in which a questioner self-sabotages by asking the question in a way that the community does not appreciate. Provide a link, and describe what the questioner did specifically to annoy the community of answerers. [6 points]"
   ]
  },
  {
   "cell_type": "markdown",
   "id": "ef0b6dca-96c1-4431-9ca7-284160cbf32a",
   "metadata": {},
   "source": [
    "Link : https://stackoverflow.com/questions/79752460/why-is-the-output-for-python-code-with-remove-wrong\n",
    "\n",
    "The asker posted code using list.remove() inside a loop and asked “Why is the output wrong?” without showing any research or understanding of the problem. The question:\n",
    "\n",
    "- Does not explain the expected versus actual output clearly.\n",
    "\n",
    "- Lacks a minimal working example that isolates the issue.\n",
    "\n",
    "- Reads like “do this for me” instead of showing effort.\n",
    "\n",
    "These behaviors annoy the community and make it less likely the question will get helpful answers."
   ]
  },
  {
   "cell_type": "markdown",
   "id": "0485dd92-7cbe-48eb-86da-1c98cad2b92d",
   "metadata": {},
   "source": [
    "# Problem 4"
   ]
  },
  {
   "cell_type": "markdown",
   "id": "33d35802-f6e4-4584-8563-0d7ce22eb346",
   "metadata": {},
   "source": [
    "These days there are so many Marvel superheros, but only six superheros count as original Avengers: Hulk, Captain America, Iron Man, Black Widow, Hawkeye, and Thor. I wrote a function, is_avenger() , that takes a string as an input. The function looks to see if this string is the name of one of the original six Avengers. If so, it prints that the string is an original Avenger, and if not, it prints that the string is not an original Avenger.\n",
    "\n",
    "Here’s the code for the function:"
   ]
  },
  {
   "cell_type": "code",
   "execution_count": 14,
   "id": "9b9e16b5-66b9-4ec8-a38d-a532100bc516",
   "metadata": {},
   "outputs": [],
   "source": [
    "def is_avenger(name):\n",
    "    if name==\"Hulk\" or \"Captain America\" or \"Iron Man\" or \"Black Widow\" or \"\n",
    "        print(name + \"'s an original Avenger!\")\n",
    "    else:\n",
    "        print(name + \" is NOT an original Avenger.\")"
   ]
  },
  {
   "cell_type": "code",
   "execution_count": 15,
   "id": "97e68db2-f6e8-4da0-a439-82b0bdc0eee6",
   "metadata": {},
   "outputs": [
    {
     "name": "stdout",
     "output_type": "stream",
     "text": [
      "Black Widow is an original Avenger!\n"
     ]
    }
   ],
   "source": [
    "is_avenger(\"Black Widow\")"
   ]
  },
  {
   "cell_type": "code",
   "execution_count": 16,
   "id": "bc68d215-3210-4ce3-8397-5f084bdbc56f",
   "metadata": {},
   "outputs": [
    {
     "name": "stdout",
     "output_type": "stream",
     "text": [
      "Iron Man is an original Avenger!\n"
     ]
    }
   ],
   "source": [
    "is_avenger(\"Iron Man\")"
   ]
  },
  {
   "cell_type": "code",
   "execution_count": 17,
   "id": "a7aae291-c547-4691-bc86-07050158647f",
   "metadata": {},
   "outputs": [
    {
     "name": "stdout",
     "output_type": "stream",
     "text": [
      "Hulk is an original Avenger!\n"
     ]
    }
   ],
   "source": [
    "is_avenger(\"Hulk\")"
   ]
  },
  {
   "cell_type": "code",
   "execution_count": 18,
   "id": "a8e568a4-bfbf-46f9-bd64-67814c0985f9",
   "metadata": {},
   "outputs": [
    {
     "name": "stdout",
     "output_type": "stream",
     "text": [
      "Spiderman is NOT an original Avenger.\n"
     ]
    }
   ],
   "source": [
    "is_avenger(\"Spiderman\")"
   ]
  },
  {
   "cell_type": "code",
   "execution_count": 19,
   "id": "5ada156c-e803-47b4-aeca-e9231678f873",
   "metadata": {},
   "outputs": [
    {
     "name": "stdout",
     "output_type": "stream",
     "text": [
      "Beyonce is NOT an original Avenger.\n"
     ]
    }
   ],
   "source": [
    "is_avenger(\"Beyonce\")"
   ]
  },
  {
   "cell_type": "markdown",
   "id": "7943dc30-d2a6-4366-8183-75ef98be554b",
   "metadata": {},
   "source": [
    "Beyonce is a hero, but she was too busy going on tour to be in the Avengers movie. Also, Spiderman definitely was NOT an original Avenger. It turns out that this function will display that any string we write here is an original Avenger, which is incorrect. \n",
    "\n",
    "To fix this function, let’s turn to Stack Overflow."
   ]
  },
  {
   "cell_type": "markdown",
   "id": "d7df66d1-cbc6-4292-a6e0-7c6f3d761bc4",
   "metadata": {},
   "source": [
    "### Part a"
   ]
  },
  {
   "cell_type": "markdown",
   "id": "46adf520-a1aa-4091-a7d0-3feb5368e1d1",
   "metadata": {},
   "source": [
    "The first step to solving a problem using Stack Overflow is to do a comprehensive search of available resources to try to solve the problem. There is a post on Stack Overflow that very specifically solves our problem. Do a Google search and find this post. In your lab report, write the link to this Stack Overflow page, and the search terms you entered into Google to find this page."
   ]
  },
  {
   "cell_type": "markdown",
   "id": "b6af655c-5737-4c4b-8bf6-bb82f25fc941",
   "metadata": {},
   "source": [
    "Then apply the solution on this Stack Overflow page to fix the is_avenger() function,\n",
    "and test the function to confirm that it works as we expect. [8 points]"
   ]
  },
  {
   "cell_type": "markdown",
   "id": "d2ea11df-b47b-4d38-bfd3-46027cecc6db",
   "metadata": {},
   "source": [
    "Answer :\n",
    "\n",
    "Link : \n",
    "\n",
    "- https://stackoverflow.com/questions/17478729/if-there-is-stra-or-strb-or-strc-in-a-user-input-then-do-something\n",
    "  \n",
    "- https://stackoverflow.com/questions/63987341/if-statement-always-true-string?utm_source=chatgpt.com\n",
    "\n",
    "Google Search : \n",
    "\n",
    "- python if string == 'a' or 'b' or 'c'\n",
    "- Stack Overflow if 'a' or 'b' or 'c' always true python\n",
    "\n",
    "Explanation:\n",
    "\n",
    "The original function's if statement is if name==\"Hulk\" or \"Captain America\" or .... Python evaluates boolean or statements by checking each term individually \n",
    "\n",
    "- name==\"Hulk\": This part correctly evaluates whether the variable name is equal to the string \"Hulk\"\n",
    "\n",
    "- \"Captain America\": This string, as a non-empty string, is considered true by Python. The or operator stops at the first True value it finds, so the rest of the conditions are not even checked. \n",
    "\n",
    "Since the string \"Captain America\" is always true, the entire if condition always evaluates to True, regardless of what name is. \n",
    "\n"
   ]
  },
  {
   "cell_type": "code",
   "execution_count": 1,
   "id": "1374a82c-4766-4b09-8e66-3e64bf1e5532",
   "metadata": {},
   "outputs": [],
   "source": [
    "#updated code : Use the in operator with a list or tuple of valid values\n",
    "\n",
    "def is_avenger(name):\n",
    "    if name in [\"Hulk\", \"Captain America\", \"Iron Man\", \"Black Widow\", \"Hawkeye\", \"Thor\"]:\n",
    "        print(name + \" is an original Avenger!\")\n",
    "    else:\n",
    "        print(name + \" is NOT an original Avenger.\")\n",
    "\n",
    "# repeat the comparison for each value"
   ]
  },
  {
   "cell_type": "code",
   "execution_count": 2,
   "id": "1a9816ae-b7a3-46df-a379-f772c51306bc",
   "metadata": {},
   "outputs": [
    {
     "name": "stdout",
     "output_type": "stream",
     "text": [
      "Black Widow is an original Avenger!\n",
      "Iron Man is an original Avenger!\n",
      "Spiderman is NOT an original Avenger.\n",
      "Beyonce is NOT an original Avenger.\n"
     ]
    }
   ],
   "source": [
    "# Test the corrected function\n",
    "is_avenger(\"Black Widow\")\n",
    "is_avenger(\"Iron Man\")\n",
    "is_avenger(\"Spiderman\")\n",
    "is_avenger(\"Beyonce\")"
   ]
  },
  {
   "cell_type": "markdown",
   "id": "f7740e62-34a2-4888-a200-adb905234d33",
   "metadata": {},
   "source": [
    "### Part b"
   ]
  },
  {
   "cell_type": "markdown",
   "id": "22ff833a-1b93-40a8-b226-5f918a8a53e7",
   "metadata": {},
   "source": [
    "Suppose that no Stack Overflow posts yet existed to help us solve this problem. It would be time to consider writing a post ourselves. In your notebook, write a good title for this post. Do NOT copy the title to the posts you found for part a. (Hint: for details on how to write a good title see the slides or https://stackoverflow.com/help/how-to-ask) [8 points]"
   ]
  },
  {
   "cell_type": "markdown",
   "id": "5be5331a-9861-4521-ad9d-08035601c411",
   "metadata": {},
   "source": [
    "Post Title :\n",
    "\n",
    "Why does my Python ‘if name == \"Hulk\" or \"Iron Man\" …’ always evaluate as True, even for non-Avengers?"
   ]
  },
  {
   "cell_type": "markdown",
   "id": "b7c524f8-7434-4bf3-bb1e-7d29658fe5c8",
   "metadata": {},
   "source": [
    "### Part c"
   ]
  },
  {
   "cell_type": "markdown",
   "id": "89e064c3-84f9-4663-b29d-3e16275c9476",
   "metadata": {},
   "source": [
    "One characteristic of a Stack Overflow post that is likely to get good responses is a minimal working example. A minimal working example is code with the following\n",
    "properties:\n",
    "1. It can be executed on anyone’s local machine without needing a data file or a hardto-get package or module\n",
    "2. It always produces the problematic output\n",
    "3. It using as few lines of code as possible, and is written in the simplest way to write that code\n",
    "\n",
    "Write a minimal working example for this problem. (Hint: the problem at hand has nothing to do with the Avengers, really.) [8 points]"
   ]
  },
  {
   "cell_type": "code",
   "execution_count": null,
   "id": "68b4d6d2-0a52-43be-b726-ecc51172623a",
   "metadata": {},
   "outputs": [],
   "source": [
    "def find(x):\n",
    "    if x == \"a\" or \"b\" or \"c\":\n",
    "        print(\"Yes!\")\n",
    "    else:\n",
    "        print(\"No\")\n",
    "\n",
    "find(\"a\")   # Expected: Correct\n",
    "find(\"z\")   # Expected: Incorrect, but actually prints Yes! instead of No\n"
   ]
  },
  {
   "cell_type": "markdown",
   "id": "f0539921-f15b-4462-a8e1-d5c8bd81ee6d",
   "metadata": {},
   "source": [
    "# Problem 5"
   ]
  },
  {
   "cell_type": "markdown",
   "id": "0f7cd98a-c4a9-4b21-a457-8d5226c47401",
   "metadata": {},
   "source": [
    "This problem focuses on how to use an LLM as a code assistant for coding tasks. In this course you are free to use any LLM you want, or none at all, so long as you remember that LLM code assistants are wonderfuly useful if you know how to code and quite destructive to your ability to learn the basics if you do not, so pay attention to your use of AI and catch yourself if you see yourself using these tools as crutches.\n",
    "\n",
    "However, for this problem only, please download\n",
    "\n",
    "- VS Code\n",
    "- The Python plug-in for VS Code\n",
    "- The Jupyter plug-in for VS Code\n",
    "- And the Windsurf plug-in for VS Code (after creating a free account on\n",
    "Windsurf.com)\n",
    "\n",
    "Please review section 1.9 of Surfing the Data Pipeline with Python to learn about how to use the autocomplete, in-line prompting, and external chat functionality that Windsurf provides.\n",
    "\n",
    "Once you have these tools installed, we will use them to address the following problem:\n",
    "\n",
    "The Collatz Conjecture states that if you take a positive integer and apply the following algorithm:\n",
    "\n",
    "- If even, divide by two\n",
    "- If odd, multiply by 3 and add 1\n",
    "\n",
    "And then repeat these steps for the result, then eventually every number (no matter how large) will converge to a sequence of 4, 2, 1, 4, 2, 1, ... This statement is a conjecture because it is not proven for all positive integers."
   ]
  },
  {
   "cell_type": "markdown",
   "id": "ed4bcb82-01d0-4ceb-a307-2e6328309d86",
   "metadata": {},
   "source": [
    "The Collats conjecture states that if you pick a number, and if it's even divide it by two and if it's odd multiply it by three and add one, and you repeat this procedure long enough, eventually your friends will stop calling to see if you want to hang\n",
    "\n",
    "Source: https://xkcd.com/710/"
   ]
  },
  {
   "cell_type": "markdown",
   "id": "8acea40a-8f03-4fff-ab54-185e9b035ba6",
   "metadata": {},
   "source": [
    "### Part a"
   ]
  },
  {
   "cell_type": "markdown",
   "id": "ac093e7d-ff54-47cc-bdce-4add243b38d6",
   "metadata": {},
   "source": [
    "Use the Windsurf external chat window to ask for a Python function that applies the Collatz algorithm described above one time to a given positive integer. Write your prompt in your notebook and paste the code it returns in a code cell. [6 points]"
   ]
  },
  {
   "cell_type": "code",
   "execution_count": 3,
   "id": "74a42aed-5dc0-4369-8a3a-e8cb6cf46e1c",
   "metadata": {},
   "outputs": [],
   "source": [
    "def collatz(n):\n",
    "    if n % 2 == 0:\n",
    "        return n // 2\n",
    "    else:\n",
    "        return 3 * n + 1"
   ]
  },
  {
   "cell_type": "markdown",
   "id": "e495e599-bb4e-46f0-bb75-df9da8451cae",
   "metadata": {},
   "source": [
    "### Part b"
   ]
  },
  {
   "cell_type": "markdown",
   "id": "6764f57f-d3dc-44fd-9b3f-1d5a85d6f1ce",
   "metadata": {},
   "source": [
    "Copy the function you received in part a in a new code cell. Place your cursor somewhere inside the function prior to the return statements, and use in-line prompting to ask Windsurf to add a ValueError if the inputted number is negative and a TypeError if the inputted number is not an integer. [6 points]"
   ]
  },
  {
   "cell_type": "code",
   "execution_count": null,
   "id": "70ca0441-821b-42a8-928e-a0a2afadf84a",
   "metadata": {},
   "outputs": [],
   "source": [
    "def collatz(n):\n",
    "    if not isinstance(n, int):\n",
    "        raise TypeError(\"Input must be an integer\")\n",
    "    if n < 0:\n",
    "        raise ValueError(\"Input must be a non-negative integer\")\n",
    "    if n % 2 == 0:\n",
    "        return n // 2\n",
    "    else:\n",
    "        return 3 * n + 1"
   ]
  },
  {
   "cell_type": "markdown",
   "id": "71e7df51-e893-4b24-988b-f68c121b98fa",
   "metadata": {},
   "source": [
    "### Part c"
   ]
  },
  {
   "cell_type": "markdown",
   "id": "2c654a61-69a8-493a-859a-9ecd2ffa230c",
   "metadata": {},
   "source": [
    "To test whether applying the Collatz function repeatedly will eventually result in an output of 1, write a while loop that begins with a user-specified positive integer and applies the function from part b over and over until a value of 1 is achieved. Instead of prompting the LLM to create this loop, try coding it yourself but use the autocompletion feature as much as you can. [6 points]"
   ]
  },
  {
   "cell_type": "code",
   "execution_count": null,
   "id": "118fdd11-df48-48fb-a8c4-9c844863a919",
   "metadata": {},
   "outputs": [],
   "source": [
    "def collatz(n):\n",
    "    if not isinstance(n, int):\n",
    "        raise TypeError(\"Input must be an integer\")\n",
    "    if n < 0:\n",
    "        raise ValueError(\"Input must be a non-negative integer\")\n",
    "    if n % 2 == 0:\n",
    "        return n // 2\n",
    "    else:\n",
    "        return 3 * n + 1\n",
    "\n",
    "def test_collatz():\n",
    "    num = int(input(\"Enter a positive integer: \"))\n",
    "    while num != 1:\n",
    "        num = collatz(num)\n",
    "        print(num)\n",
    "\n",
    "test_collatz()"
   ]
  }
 ],
 "metadata": {
  "kernelspec": {
   "display_name": "Python [conda env:ds6001]",
   "language": "python",
   "name": "conda-env-ds6001-py"
  },
  "language_info": {
   "codemirror_mode": {
    "name": "ipython",
    "version": 3
   },
   "file_extension": ".py",
   "mimetype": "text/x-python",
   "name": "python",
   "nbconvert_exporter": "python",
   "pygments_lexer": "ipython3",
   "version": "3.13.5"
  }
 },
 "nbformat": 4,
 "nbformat_minor": 5
}
